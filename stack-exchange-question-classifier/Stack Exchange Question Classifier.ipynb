{
 "cells": [
  {
   "cell_type": "markdown",
   "metadata": {},
   "source": [
    "# Stack Exchange Question Classifier\n",
    "\n",
    "Neste notebook exploraremos e resolveremos o desafio do HackerRank de [Classificação de questões do Stack Exchange](https://www.hackerrank.com/challenges/stack-exchange-question-classifier/problem). Para isso, vamos explorar algumas técnicas de processamento de linguagem natural (NLP), seja para construção de _features_ relevantes para o problema, seja na aplicação de algoritmos de classificação adequados. \n",
    "\n",
    "## Estrutura do dataset de treino\n",
    "\n",
    "O dataset de treino consiste em um arquivo text que contém na primeira linha um número inteiro indicando a quantidade de linhas no restante do arquivo e as demais linhas são compostas por questões do Stack Exchange em formato JSON contendo as seguintes chaves:\n",
    "\n",
    "1. excerpt - trecho da resposta a uma dada questão\n",
    "2. question - título da questão\n",
    "3. topic - tópico ao qual a questão percente\n",
    "\n",
    "## Definição do problema\n",
    "\n",
    "O problema a ser resolvido é a classificação de uma dada questão em um dos tópicos existentes "
   ]
  },
  {
   "cell_type": "code",
   "execution_count": 1,
   "metadata": {},
   "outputs": [],
   "source": [
    "import pandas as pd\n",
    "import matplotlib\n",
    "import string\n",
    "import matplotlib.pyplot as plt\n",
    "import json\n",
    "import io\n",
    "\n",
    "from sklearn.feature_extraction import stop_words\n",
    "from sklearn.feature_extraction.text import CountVectorizer, TfidfTransformer\n",
    "from sklearn.model_selection import train_test_split, GridSearchCV, KFold\n",
    "from sklearn.naive_bayes import MultinomialNB\n",
    "from sklearn.svm import SVC, LinearSVC\n",
    "from sklearn.metrics import accuracy_score\n",
    "from sklearn.preprocessing import LabelEncoder\n",
    "\n",
    "BASE_DATA_PATH=\"data/\"\n",
    "TRAINING_FILE_NAME=\"training.json\"\n",
    "TEST_FILE_FEATURES_NAME=\"input00.txt\"\n",
    "TEST_FILE_LABEL_NAME=\"output00.txt\"\n",
    "\n",
    "def read_training_dataset(f_name):\n",
    "    f = open(BASE_DATA_PATH+f_name, \"r\")\n",
    "    # descarta a primeira linha que contém apenas um número inteiro\n",
    "    first_line = f.readline()\n",
    "    df_aux = []\n",
    "    l_number = 0\n",
    "    for line in f:\n",
    "        json_line = json.loads(line)\n",
    "        df_aux.append(pd.DataFrame.from_records(json_line, index=[l_number]))\n",
    "        l_number+=1\n",
    "    df = pd.concat(df_aux)\n",
    "    return(df)\n",
    "\n",
    "def read_test_dataset(f_input_name, f_output_name):\n",
    "    df = read_training_dataset(f_input_name)\n",
    "#     pd.read_json(BASE_DATA_PATH+f_input_name, orient='records')\n",
    "    df_label = pd.read_csv(BASE_DATA_PATH+f_output_name, header=None, names=['label'])\n",
    "    df['topic'] = df_label['label']\n",
    "    return(df)\n",
    "    \n",
    "\n",
    "def print_str_cells(df, col_name, n_lines, hide_special_chars=False):\n",
    "    for i in range(1,n_lines+1):\n",
    "        print(\"LINE NUMBER: {}\".format(i))\n",
    "        if hide_special_chars:\n",
    "            print(df.loc[i, col_name])\n",
    "        else:\n",
    "            print(repr(df.loc[i, col_name]))\n",
    "        print(\"================== \\n\")"
   ]
  },
  {
   "cell_type": "markdown",
   "metadata": {},
   "source": [
    "# Explorando o dataset\n",
    "\n",
    "A partir do código abaixo é possível perceber que tanto os textos das colunas `excerpt` e `question` possuiem caracteres especiais, tais como pontuação, acentos, caracteres não alfanuméricos. Esses caracteres podem ser importantes quando se trata de NLP. Por exemplo, emoticons como =), =/, =p, etc. podem indicar o sentimento associado a uma mensagem quando se está lidando com um problema de análise de sentimentos. Talvez a pontuação seja um fator importante caso você queira classificar um texto como \"formal\" ou \"informal\". \n",
    "\n",
    "Abaixo foram listados todos os tópicos existentes no dataset. Ao todo são 10 tópicos. Cada questão pertence a apenas um tópico. "
   ]
  },
  {
   "cell_type": "code",
   "execution_count": 2,
   "metadata": {},
   "outputs": [
    {
     "data": {
      "text/html": [
       "<div>\n",
       "<style scoped>\n",
       "    .dataframe tbody tr th:only-of-type {\n",
       "        vertical-align: middle;\n",
       "    }\n",
       "\n",
       "    .dataframe tbody tr th {\n",
       "        vertical-align: top;\n",
       "    }\n",
       "\n",
       "    .dataframe thead th {\n",
       "        text-align: right;\n",
       "    }\n",
       "</style>\n",
       "<table border=\"1\" class=\"dataframe\">\n",
       "  <thead>\n",
       "    <tr style=\"text-align: right;\">\n",
       "      <th></th>\n",
       "      <th>excerpt</th>\n",
       "      <th>question</th>\n",
       "      <th>topic</th>\n",
       "    </tr>\n",
       "  </thead>\n",
       "  <tbody>\n",
       "    <tr>\n",
       "      <th>0</th>\n",
       "      <td>I'm trying to work out, in general terms, the ...</td>\n",
       "      <td>What is the effective differencial effective o...</td>\n",
       "      <td>electronics</td>\n",
       "    </tr>\n",
       "    <tr>\n",
       "      <th>1</th>\n",
       "      <td>Can I know which component senses heat or acts...</td>\n",
       "      <td>Heat sensor with fan cooling</td>\n",
       "      <td>electronics</td>\n",
       "    </tr>\n",
       "    <tr>\n",
       "      <th>2</th>\n",
       "      <td>I am replacing a wall outlet with a Cooper Wir...</td>\n",
       "      <td>Outlet Installation--more wires than my new ou...</td>\n",
       "      <td>electronics</td>\n",
       "    </tr>\n",
       "    <tr>\n",
       "      <th>3</th>\n",
       "      <td>i have been reading about the buck converter, ...</td>\n",
       "      <td>Buck Converter Operation Question</td>\n",
       "      <td>electronics</td>\n",
       "    </tr>\n",
       "    <tr>\n",
       "      <th>4</th>\n",
       "      <td>I need help with deciding on a Master's Projec...</td>\n",
       "      <td>Urgent help in area of ASIC design, verificati...</td>\n",
       "      <td>electronics</td>\n",
       "    </tr>\n",
       "  </tbody>\n",
       "</table>\n",
       "</div>"
      ],
      "text/plain": [
       "                                             excerpt  \\\n",
       "0  I'm trying to work out, in general terms, the ...   \n",
       "1  Can I know which component senses heat or acts...   \n",
       "2  I am replacing a wall outlet with a Cooper Wir...   \n",
       "3  i have been reading about the buck converter, ...   \n",
       "4  I need help with deciding on a Master's Projec...   \n",
       "\n",
       "                                            question        topic  \n",
       "0  What is the effective differencial effective o...  electronics  \n",
       "1                       Heat sensor with fan cooling  electronics  \n",
       "2  Outlet Installation--more wires than my new ou...  electronics  \n",
       "3                  Buck Converter Operation Question  electronics  \n",
       "4  Urgent help in area of ASIC design, verificati...  electronics  "
      ]
     },
     "execution_count": 2,
     "metadata": {},
     "output_type": "execute_result"
    }
   ],
   "source": [
    "df = read_training_dataset(TRAINING_FILE_NAME)\n",
    "df.head()"
   ]
  },
  {
   "cell_type": "code",
   "execution_count": 3,
   "metadata": {},
   "outputs": [
    {
     "data": {
      "text/html": [
       "<div>\n",
       "<style scoped>\n",
       "    .dataframe tbody tr th:only-of-type {\n",
       "        vertical-align: middle;\n",
       "    }\n",
       "\n",
       "    .dataframe tbody tr th {\n",
       "        vertical-align: top;\n",
       "    }\n",
       "\n",
       "    .dataframe thead th {\n",
       "        text-align: right;\n",
       "    }\n",
       "</style>\n",
       "<table border=\"1\" class=\"dataframe\">\n",
       "  <thead>\n",
       "    <tr style=\"text-align: right;\">\n",
       "      <th></th>\n",
       "      <th>excerpt</th>\n",
       "      <th>question</th>\n",
       "      <th>topic</th>\n",
       "    </tr>\n",
       "  </thead>\n",
       "  <tbody>\n",
       "    <tr>\n",
       "      <th>0</th>\n",
       "      <td>I have been working with a IS5 frequency inver...</td>\n",
       "      <td>Frequency Inverter LS IS5</td>\n",
       "      <td>electronics</td>\n",
       "    </tr>\n",
       "    <tr>\n",
       "      <th>1</th>\n",
       "      <td>I was taking apart this thing that I bought fr...</td>\n",
       "      <td>Why did the designer use this motor?</td>\n",
       "      <td>electronics</td>\n",
       "    </tr>\n",
       "    <tr>\n",
       "      <th>2</th>\n",
       "      <td>I am starting to learn to use operational ampl...</td>\n",
       "      <td>Help with amplifier with feedback</td>\n",
       "      <td>electronics</td>\n",
       "    </tr>\n",
       "    <tr>\n",
       "      <th>3</th>\n",
       "      <td>This may be a very basic question but as the u...</td>\n",
       "      <td>Single Supply Op Amp to Amplify 0-3.3V to 0-10V</td>\n",
       "      <td>electronics</td>\n",
       "    </tr>\n",
       "    <tr>\n",
       "      <th>4</th>\n",
       "      <td>I am new to all of this and I really feel over...</td>\n",
       "      <td>How to start with 3d tracking? [on hold]</td>\n",
       "      <td>electronics</td>\n",
       "    </tr>\n",
       "  </tbody>\n",
       "</table>\n",
       "</div>"
      ],
      "text/plain": [
       "                                             excerpt  \\\n",
       "0  I have been working with a IS5 frequency inver...   \n",
       "1  I was taking apart this thing that I bought fr...   \n",
       "2  I am starting to learn to use operational ampl...   \n",
       "3  This may be a very basic question but as the u...   \n",
       "4  I am new to all of this and I really feel over...   \n",
       "\n",
       "                                          question        topic  \n",
       "0                        Frequency Inverter LS IS5  electronics  \n",
       "1             Why did the designer use this motor?  electronics  \n",
       "2                Help with amplifier with feedback  electronics  \n",
       "3  Single Supply Op Amp to Amplify 0-3.3V to 0-10V  electronics  \n",
       "4         How to start with 3d tracking? [on hold]  electronics  "
      ]
     },
     "execution_count": 3,
     "metadata": {},
     "output_type": "execute_result"
    }
   ],
   "source": [
    "df_test = read_test_dataset(TEST_FILE_FEATURES_NAME, TEST_FILE_LABEL_NAME)\n",
    "df_test.head()"
   ]
  },
  {
   "cell_type": "code",
   "execution_count": 3,
   "metadata": {},
   "outputs": [
    {
     "name": "stdout",
     "output_type": "stream",
     "text": [
      "LINE NUMBER: 1\n",
      "u'Can I know which component senses heat or acts as heat sensor in the following circuit?\\nIn the given diagram, it is said that the 4148 diode acts as the sensor. But basically it is a zener diode and ...\\r\\n        '\n",
      "================== \n",
      "\n",
      "LINE NUMBER: 2\n",
      "u'I am replacing a wall outlet with a Cooper Wiring USB outlet (TR7745).  The new outlet has 3 wires coming out of it--a black, a white, and a green.  Each one needs to be attached with a wire nut to ...\\r\\n        '\n",
      "================== \n",
      "\n",
      "LINE NUMBER: 3\n",
      "u'i have been reading about the buck converter, and have also referred to the various online resources like here.\\n\\n\\n\\nIn the above circuit, as I understand, when switch closes, current starts to increase ...\\r\\n        '\n",
      "================== \n",
      "\n"
     ]
    }
   ],
   "source": [
    "print_str_cells(df, \"excerpt\", 3)"
   ]
  },
  {
   "cell_type": "code",
   "execution_count": 4,
   "metadata": {},
   "outputs": [
    {
     "name": "stdout",
     "output_type": "stream",
     "text": [
      "LINE NUMBER: 1\n",
      "u'Heat sensor with fan cooling'\n",
      "================== \n",
      "\n",
      "LINE NUMBER: 2\n",
      "u'Outlet Installation--more wires than my new outlet can use [on hold]'\n",
      "================== \n",
      "\n",
      "LINE NUMBER: 3\n",
      "u'Buck Converter Operation Question'\n",
      "================== \n",
      "\n"
     ]
    }
   ],
   "source": [
    "print_str_cells(df, \"question\", 3)"
   ]
  },
  {
   "cell_type": "code",
   "execution_count": 5,
   "metadata": {},
   "outputs": [
    {
     "data": {
      "text/plain": [
       "array([u'electronics', u'mathematica', u'android', u'security', u'gis',\n",
       "       u'photo', u'scifi', u'unix', u'apple', u'wordpress'], dtype=object)"
      ]
     },
     "execution_count": 5,
     "metadata": {},
     "output_type": "execute_result"
    }
   ],
   "source": [
    "df['topic'].unique()"
   ]
  },
  {
   "cell_type": "markdown",
   "metadata": {},
   "source": [
    "### Analisando a distribuição de classes do dataset"
   ]
  },
  {
   "cell_type": "markdown",
   "metadata": {},
   "source": [
    "Uma das preocupações que existem quando se cria um modelo de classificação é a do enviesamento do mesmo. Uma das formas de isso acontecer é ter, no dataset de treino uma quantidade muito maior de um dos valores da variável alvo em relação aos demais. Por exemplo, se, no dataset desse projeto, a quantidade de exemplos do tópico `eletronics` for muito maior do que a dos demais tópicos, o modelo tenderá a classificar a maior parte dos novos documentos como `eletronics`. \n",
    "\n",
    "Vale a ressalva de que nem sempre esse viés do classificador é algo ruim. No exemplo citado, se o fórum do Stack Exchange for muito focado no tópico `eletronics`, talvez o classificador só esteja refletindo uma distribuição dos dados reais, porém se isso for um problema do dataset utilizado, o classificador provavelmente errará boa parte das predições. \n",
    "\n",
    "A partir do gráfico abaixo, é possível perceber que a quantidade de exemplos do tópico `matematica` é bem menor do que a dos demais. Por outro lado, os tópicos `gis` e `scifi` são os que tem a maior quantidade de exemplos. Esse fato pode servir de input para realizarmos uma atividade de balanceamento de classes. "
   ]
  },
  {
   "cell_type": "code",
   "execution_count": 20,
   "metadata": {},
   "outputs": [
    {
     "data": {
      "image/png": "[encoded data removed]",
      "text/plain": [
       "<Figure size 1080x432 with 1 Axes>"
      ]
     },
     "metadata": {},
     "output_type": "display_data"
    }
   ],
   "source": [
    "topis_dist = df.groupby('topic').size().reset_index()\n",
    "topis_dist = topis_dist.rename(columns={0: 'count'})\n",
    "topis_dist.plot(kind='bar', x=\"topic\", y=\"count\", figsize=(15,6))\n",
    "plt.show()"
   ]
  },
  {
   "cell_type": "markdown",
   "metadata": {},
   "source": [
    "### Analisando tamanho, pontuação e caracteres especiais no dataset\n",
    "\n",
    "Além da presença de caracteres especiais e _stop words_ no texto, um outro valor que talvez influencie o desafio de classificação de texto é o tamanho dos textos em si. Olhando o dataset de um ponto de vista mais conceitual, é possível imaginar que talvez alguns tipos de questão exijam respostas de tamanhos maiores ou perguntas maiores, para melhor explicitar o problema e a solução ali presentes. Dado isso, talvez essa informação esteja relacionada com algum tópico. \n",
    "\n",
    "Nesta seção, vamos verificar se existe alguma ligação entre o tamanho médio dos `excerpt` e `question` e os tópicos existentes. Aproveitando o gancho, o mesmo exercício é feito para caracteres de pontuação e _stop words_. Basicamente se identificarmos uma diferença significativa nos tópicos a partir dessas métricas isso pode significar que devemos usá-las como _features_ do nosso modelo de classificação, pois elas serão capazes de diferenciar os tópicos.\n",
    "\n",
    "Para começar, vamos montar um histograma para analisar a distribuição do tamanho dos excertos e questões. Depois faremos a análise descrita no parágrafo anterior."
   ]
  },
  {
   "cell_type": "code",
   "execution_count": 3,
   "metadata": {},
   "outputs": [],
   "source": [
    "df[\"excerpt_len\"] = df[\"excerpt\"].apply(lambda x: len(x))\n",
    "df[\"question_len\"] = df[\"question\"].apply(lambda x: len(x))\n",
    "\n",
    "count = lambda l1, l2: len(list(filter(lambda c: c in l2, l1)))\n",
    "\n",
    "df[\"excerpt_punctuation_len\"] = df[\"excerpt\"].apply(lambda x: count(x, string.punctuation))\n",
    "df[\"question_punctuation_len\"] = df[\"question\"].apply(lambda x: count(x, string.punctuation))\n",
    "df[\"excerpt_stopw_len\"] = df[\"excerpt\"].apply(lambda x: count(x, string.punctuation))\n",
    "df[\"question_stopw_len\"] = df[\"question\"].apply(lambda x: count(x, string.punctuation))\n",
    "df[\"excerpt_punctuation_ratio\"] = df[\"excerpt_punctuation_len\"]/df[\"excerpt_len\"]\n",
    "df[\"question_punctuation_ratio\"] = df[\"question_punctuation_len\"]/df[\"question_len\"]\n",
    "df[\"excerpt_stopw_ratio\"] = df[\"excerpt_stopw_len\"]/df[\"excerpt_len\"]\n",
    "df[\"question_stopw_ratio\"] = df[\"question_stopw_len\"]/df[\"question_len\"]"
   ]
  },
  {
   "cell_type": "code",
   "execution_count": 7,
   "metadata": {},
   "outputs": [
    {
     "data": {
      "image/png": "[encoded data removed]",
      "text/plain": [
       "<Figure size 1224x288 with 2 Axes>"
      ]
     },
     "metadata": {},
     "output_type": "display_data"
    }
   ],
   "source": [
    "fig, axes = plt.subplots(nrows=1, ncols=2, figsize=(17,4))\n",
    "\n",
    "axes[0].set_title(\"Histograma do tamanho de texto resposta\")\n",
    "df[\"excerpt_len\"].hist(ax=axes[0], bins=10)\n",
    "axes[1].set_title(\"Histograma do tamanho das questoes\")\n",
    "df[\"question_len\"].hist(ax=axes[1])\n",
    "\n",
    "plt.show()"
   ]
  },
  {
   "cell_type": "code",
   "execution_count": 4,
   "metadata": {},
   "outputs": [],
   "source": [
    "df_grouped = df.groupby(\"topic\").agg({'excerpt_len': 'mean', 'question_len': 'mean', \n",
    "                        'excerpt_punctuation_ratio': 'mean', 'question_punctuation_ratio': 'mean',\n",
    "                        'excerpt_stopw_ratio': 'mean', 'question_stopw_ratio': 'mean'}).reset_index()"
   ]
  },
  {
   "cell_type": "code",
   "execution_count": 8,
   "metadata": {},
   "outputs": [
    {
     "data": {
      "image/png": "[encoded data removed]",
      "text/plain": [
       "<Figure size 1152x360 with 2 Axes>"
      ]
     },
     "metadata": {},
     "output_type": "display_data"
    }
   ],
   "source": [
    "fig, axes = plt.subplots(nrows=3, ncols=2, figsize=(16,10))\n",
    "axes[0,0].set_title(\"Media de tamanho de excerto por topico\")\n",
    "df_grouped.plot.bar(x=\"topic\", y=\"excerpt_len\", ax=axes[0,0], sharex=axes[2,0])\n",
    "axes[0,1].set_title(\"Media de tamanho de questao por topico\")\n",
    "df_grouped.plot.bar(x=\"topic\", y=\"question_len\", ax=axes[0,1], sharex=axes[2,1])\n",
    "axes[1,0].set_title(\"Media da razao de caracteres de pontuacao e excerto por topico\")\n",
    "df_grouped.plot.bar(x=\"topic\", y=\"excerpt_punctuation_ratio\", ax=axes[1,0], sharex=axes[2,0])\n",
    "axes[1,1].set_title(\"Media da razao de caracteres de pontuacao e questao por topico\")\n",
    "df_grouped.plot.bar(x=\"topic\", y=\"question_punctuation_ratio\", ax=axes[1,1], sharex=axes[2,0])\n",
    "axes[2,0].set_title(\"Media da razao de stopwords e excerto por topico\")\n",
    "df_grouped.plot.bar(x=\"topic\", y=\"excerpt_stopw_ratio\", ax=axes[2,0])\n",
    "axes[2,1].set_title(\"Media da razao de stopwords e questao por topico\")\n",
    "df_grouped.plot.bar(x=\"topic\", y=\"question_stopw_ratio\", ax=axes[2,1])\n",
    "plt.show()"
   ]
  },
  {
   "cell_type": "markdown",
   "metadata": {},
   "source": [
    "A partir dos gráficos acima, podemos perceber que:\n",
    "\n",
    "1. Os excertos tem um tamanho está concentrado ao redor de 200 caracteres. A distribuição de tamanho de caracteres nos excertos é bem enviesada\n",
    "2. As questões tem uma distribuição um pouco mais parecida com uma distribuição normal, mas com uma cauda alongada para o lado direito. Mas podemos dizer que a maioria das questões tem um tamanho concentrado entre 20 e 80 caracteres\n",
    "3. As métricas citadas no início dessa seção não tem uma grande variação entre os diversos tópicos (vide gráficos coloridos acima)\n",
    "\n",
    "Dado isso, talvez usar o tamanho (em caracteres) dos documentos e _stop words_ como _features_ do modelo não seja algo relevante. Isso corrobora com o conhecimento prévio adquirido nas leituras da seção **Referências**. \n",
    "\n",
    "## Feature Engineering\n",
    "\n",
    "Nesta seção, para a construção das _features_ do modelo consideraremos algumas premissas:\n",
    "\n",
    "1. **As _stop words_ não tem impacto para o resultado do modelo**\n",
    "2. **Letras maiúsculas ou minúsculas não fazem diferença para o resultado do modelo**: essa premissa foi definida a partir da leitura de algumas entradas do dataset de treino. Tanto nas questões quanto nos excertos temos a presença de siglas com letras maiúsculas (representando objetos, voltagem, marca de produto, etc.), iniciais de frases com letra maiúscula e etc., mas nos casos observados a caixa do texto não parece influenciar na definição do tópico\n",
    "3. **Pontuação pode ser desconsiderada mesmo que ela faça parte de palavras**: o caso especial a ser considerado aqui como ponto negativo é que algumas palavras são compostas, portanto, separadas por hífen. Com essa premissa perderemos a visibilidade sobre esses casos. \n",
    "4. **As colunas `excerpt` e `question` podem ser consideradas um texto só para termos de classificação**: esta premissa vem da noção intuitiva de que tanto a questão quanto o excerto dela podem conter dicas sobre o tópico sobre o qual ela está falando. O exemplo abaixo ilustra esse raciocínio. \n",
    "\n",
    "```json\n",
    "{\"topic\":\"electronics\",\"question\":\"Aluminum Electrolytic Capacitor Dissipation Factor\",\"excerpt\":\"I am using a big aluminum electrolytic capacitor (400V/470uF/105°C) after a 220VAC bridge rectifier in a motor application.\\n\\nDuring the burn-in test (180VDC, 6A seen by the motor) with a constant ...\\r\\n        \"}\n",
    "```\n",
    "\n",
    "Em um desafio de NLP as features que irão para o modelo são basicamente as palavras (também chamadas de _tokens_) ou os n-gramas que compõem os textos, mas temos formas diferentes de metrificar a presença dessas palavras nos textos. \n",
    "\n",
    "1. WordCount\n",
    "2. Frequência de termos - TF\n",
    "3. TF-IDF\n",
    "\n",
    "Vamos gerar neste notebook as 3 primeiras formas de _features_. Além disso é preciso unir o conteúdo das colunas `excerpt` e `question` e transformar todas as letras para caixa baixa. É possível representar visualmente as três formas de _features_ citadas como uma tabela, na qual cada linha representa uma sentença/frase e cada coluna uma palavra existente no dataset e o que varia aqui é a métrica utilizada para contabilizar as palavras. As tabelas abaixo ilustram isso. Usaremos as duas frases abaixo extraídas do dataset como exemplo:\n",
    "\n",
    "* Frase 01: \"Heat sensor with fan cooling\"\n",
    "* Frase 02: \"Buck Converter Operation Question\"\n",
    "\n",
    "Tabela 1: representação visual de WordCount - cada célula representa quantas vezes cada palavra aparece nas sentenças\n",
    "\n",
    "|    \t| heat \t| sensor \t| with \t| fan \t| cooling \t| buck \t| converter \t| operation \t| question \t|\n",
    "|----\t|------\t|--------\t|------\t|-----\t|---------\t|------\t|-----------\t|-----------\t|----------\t|\n",
    "| Frase 01 \t| 1    \t| 1      \t| 1    \t| 1   \t| 1       \t| 0    \t| 0         \t| 0         \t| 0        \t|\n",
    "| Frase 02  \t| 0    \t| 0      \t| 0    \t| 0   \t| 0       \t| 1    \t| 1         \t| 1         \t| 1        \t|\n",
    "\n",
    "Tabela 2: representação visual de Frequência de termos - cada célula representa a frequência de cada palavra nas sentenças ( $\\frac{N_{palavra}}{ N_{palavras}}$ )\n",
    "\n",
    "|          \t| heat \t| sensor \t| with \t| fan \t| cooling \t| buck \t| converter \t| operation \t| question \t|\n",
    "|----------\t|------\t|--------\t|------\t|-----\t|---------\t|------\t|-----------\t|-----------\t|----------\t|\n",
    "| Frase 01 \t| 0.2  \t| 0.2    \t| 0.2  \t| 0.2 \t| 0.2     \t| 0    \t| 0         \t| 0         \t| 0        \t|\n",
    "| Frase 02 \t| 0    \t| 0      \t| 0    \t| 0   \t| 0       \t| 0.25 \t| 0.25      \t| 0.25      \t| 0.25     \t|\n",
    "\n",
    "### Pré processamento"
   ]
  },
  {
   "cell_type": "code",
   "execution_count": 26,
   "metadata": {},
   "outputs": [],
   "source": [
    "full_text_col = 'full_text'\n",
    "required_columns = [\"excerpt\", \"question\", \"topic\", full_text_col]\n",
    "df[full_text_col] = df[\"question\"] + \" \" + df[\"excerpt\"]\n",
    "df[full_text_col] = df[full_text_col].str.lower()\n",
    "\n",
    "le = LabelEncoder()\n",
    "\n",
    "X = df[full_text_col]\n",
    "# y = df['topic']\n",
    "y = le.fit_transform(df['topic'])\n",
    "\n",
    "df_test[full_text_col] = df_test[\"question\"] + \" \" + df_test[\"excerpt\"]\n",
    "df_test[full_text_col] = df_test[full_text_col].str.lower()\n",
    "X_final_test = df_test[full_text_col]\n",
    "y_final_test = le.fit_transform(df_test['topic'])"
   ]
  },
  {
   "cell_type": "markdown",
   "metadata": {},
   "source": [
    "### WordCount"
   ]
  },
  {
   "cell_type": "markdown",
   "metadata": {},
   "source": [
    "#### Unigram"
   ]
  },
  {
   "cell_type": "code",
   "execution_count": 27,
   "metadata": {},
   "outputs": [],
   "source": [
    "count_vec = CountVectorizer()\n",
    "X_counts = count_vec.fit_transform(X)"
   ]
  },
  {
   "cell_type": "markdown",
   "metadata": {},
   "source": [
    "#### Bigram"
   ]
  },
  {
   "cell_type": "code",
   "execution_count": 28,
   "metadata": {},
   "outputs": [],
   "source": [
    "count_vec_ngram = CountVectorizer(ngram_range=(2, 2))\n",
    "X_counts_bigram = count_vec_ngram.fit_transform(X)"
   ]
  },
  {
   "cell_type": "markdown",
   "metadata": {},
   "source": [
    "### Frequência de termos - TF"
   ]
  },
  {
   "cell_type": "code",
   "execution_count": 29,
   "metadata": {},
   "outputs": [],
   "source": [
    "tf = TfidfTransformer(use_idf=False, norm=\"l1\")\n",
    "X_freq = tf.fit_transform(X_counts)"
   ]
  },
  {
   "cell_type": "markdown",
   "metadata": {},
   "source": [
    "### TF-IDF"
   ]
  },
  {
   "cell_type": "code",
   "execution_count": 30,
   "metadata": {},
   "outputs": [],
   "source": [
    "tf = TfidfTransformer(norm=\"l1\")\n",
    "X_tfidf = tf.fit_transform(X_counts)"
   ]
  },
  {
   "cell_type": "markdown",
   "metadata": {},
   "source": [
    "## Aplicação de algoritmos\n",
    "\n",
    "Nesta seção alguns algoritmos serão aplicados para gerar a classificação de cada um dos tópicos. Dois algoritmos comumente utilizados nesse contexto são: Naive Bayes e Support Vector Machines (SVM).  \n",
    "\n",
    "Mas antes, é preciso dividir o dataset entre treino e teste. Faremos isso na proporção 80% para treino e 20% para testes."
   ]
  },
  {
   "cell_type": "code",
   "execution_count": 31,
   "metadata": {},
   "outputs": [],
   "source": [
    "X_train_counts, X_test_counts, y_train_counts, y_test_counts = train_test_split(X_counts, y, test_size=.2)\n",
    "X_train_bigram, X_test_bigram, y_train_bigram, y_test_bigram = train_test_split(X_counts_bigram, y, test_size=.2)\n",
    "X_train_freq, X_test_freq, y_train_freq, y_test_freq = train_test_split(X_freq, y, test_size=.2)\n",
    "X_train_tfidf, X_test_tfidf, y_train_tfidf, y_test_tfidf = train_test_split(X_tfidf, y, test_size=.2)"
   ]
  },
  {
   "cell_type": "markdown",
   "metadata": {},
   "source": [
    "### Multinomial Naive Bayes"
   ]
  },
  {
   "cell_type": "code",
   "execution_count": 32,
   "metadata": {},
   "outputs": [],
   "source": [
    "clf_counts = MultinomialNB().fit(X_train_counts, y_train_counts)\n",
    "clf_bigram = MultinomialNB().fit(X_train_bigram, y_train_bigram)\n",
    "clf_freq = MultinomialNB().fit(X_train_freq, y_train_freq)\n",
    "clf_tfidf = MultinomialNB().fit(X_train_tfidf, y_train_tfidf)"
   ]
  },
  {
   "cell_type": "code",
   "execution_count": 33,
   "metadata": {},
   "outputs": [],
   "source": [
    "y_pred_counts = clf_counts.predict(X_test_counts)\n",
    "y_pred_bigram = clf_bigram.predict(X_test_bigram)\n",
    "y_pred_freq = clf_freq.predict(X_test_freq)\n",
    "y_pred_tfidf = clf_tfidf.predict(X_test_tfidf)"
   ]
  },
  {
   "cell_type": "markdown",
   "metadata": {},
   "source": [
    "### Support Vector Machines\n",
    "\n",
    "Como SVM é um modelo paramétrico e não conseguimos aprender os hiper parâmetros através do processo de aprendizagem, nos resta fazer diferentes testes com esses hiperparâmetros. Para isso, usaremos a técnica de GridSearch. Como \n",
    "\n",
    "1. GridSearch\n",
    "2. Cross Validation"
   ]
  },
  {
   "cell_type": "code",
   "execution_count": 34,
   "metadata": {},
   "outputs": [],
   "source": [
    "param_grid = [\n",
    "  {'C': [1, 10, 100, 1000]}\n",
    " ]\n",
    "svc = LinearSVC()\n",
    "clf_counts = GridSearchCV(svc, param_grid).fit(X_train_counts, y_train_counts)\n",
    "clf_bigram = GridSearchCV(svc, param_grid).fit(X_train_bigram, y_train_bigram)\n",
    "clf_freq = GridSearchCV(svc, param_grid).fit(X_train_freq, y_train_freq)\n",
    "clf_tfidf = GridSearchCV(svc, param_grid).fit(X_train_tfidf, y_train_tfidf)"
   ]
  },
  {
   "cell_type": "code",
   "execution_count": 35,
   "metadata": {},
   "outputs": [],
   "source": [
    "svm_y_pred_counts = clf_counts.predict(X_test_counts)\n",
    "svm_y_pred_bigram = clf_bigram.predict(X_test_bigram)\n",
    "svm_y_pred_freq = clf_freq.predict(X_test_freq)\n",
    "svm_y_pred_tfidf = clf_tfidf.predict(X_test_tfidf)"
   ]
  },
  {
   "cell_type": "markdown",
   "metadata": {},
   "source": [
    "## Avaliação dos modelos\n",
    "\n",
    "Para cada um dos modelos, averiguaremos a acurácia dos mesmos uma vez que é uma métrica semelhante aquela utilizada no desafio do Hacker Rank. "
   ]
  },
  {
   "cell_type": "code",
   "execution_count": 36,
   "metadata": {},
   "outputs": [
    {
     "name": "stdout",
     "output_type": "stream",
     "text": [
      "Metricas usando MNB\n",
      "Acuracia de counts = 0.888724035608\n",
      "Acuracia de bigram = 0.819485657765\n",
      "Acuracia de freq = 0.469337289812\n",
      "Acuracia de tfidf = 0.604846686449\n",
      "-----------------------------------------------------\n",
      "Metricas usando SVM\n",
      "Acuracia de counts = 0.884025717112\n",
      "Acuracia de bigram = 0.812809099901\n",
      "Acuracia de freq = 0.900346191889\n",
      "Acuracia de tfidf = 0.915430267062\n",
      "-----------------------------------------------------\n"
     ]
    }
   ],
   "source": [
    "acc_counts = accuracy_score(y_test_counts, y_pred_counts)\n",
    "acc_bigram = accuracy_score(y_test_bigram, y_pred_bigram)\n",
    "acc_freq = accuracy_score(y_test_freq, y_pred_freq)\n",
    "acc_tfidf = accuracy_score(y_test_tfidf, y_pred_tfidf)\n",
    "\n",
    "print(\"Metricas usando MNB\")\n",
    "print(\"Acuracia de counts = {}\".format(acc_counts))\n",
    "print(\"Acuracia de bigram = {}\".format(acc_bigram))\n",
    "print(\"Acuracia de freq = {}\".format(acc_freq))\n",
    "print(\"Acuracia de tfidf = {}\".format(acc_tfidf))\n",
    "print(\"-----------------------------------------------------\")\n",
    "\n",
    "\n",
    "svm_acc_counts = accuracy_score(y_test_counts, svm_y_pred_counts)\n",
    "svm_acc_bigram = accuracy_score(y_test_bigram, svm_y_pred_bigram)\n",
    "svm_acc_freq = accuracy_score(y_test_freq, svm_y_pred_freq)\n",
    "svm_acc_tfidf = accuracy_score(y_test_tfidf, svm_y_pred_tfidf)\n",
    "\n",
    "print(\"Metricas usando SVM\")\n",
    "print(\"Acuracia de counts = {}\".format(svm_acc_counts))\n",
    "print(\"Acuracia de bigram = {}\".format(svm_acc_bigram))\n",
    "print(\"Acuracia de freq = {}\".format(svm_acc_freq))\n",
    "print(\"Acuracia de tfidf = {}\".format(svm_acc_tfidf))\n",
    "print(\"-----------------------------------------------------\")"
   ]
  },
  {
   "cell_type": "markdown",
   "metadata": {},
   "source": [
    "A tabela abaixo apresenta a acurácia dos modelos usando features sem a aplicação de steemer nas palavras.\n",
    "\n",
    "<table>\n",
    "  <tr>\n",
    "    <th>Algoritmo / Feature</th>\n",
    "    <th>WordCount (unigram)</th>\n",
    "    <th>WordCount (bigram)</th>\n",
    "    <th>Term Frequency</th>\n",
    "    <th>TF-IDF</th>\n",
    "  </tr>\n",
    "  <tr>\n",
    "    <td>Multinomial Naive Bayes</td>\n",
    "    <td>0.90</td>\n",
    "    <td>0.82</td>\n",
    "    <td>0.50</td>\n",
    "    <td>0.61</td>\n",
    "  </tr>\n",
    "  <tr>\n",
    "    <td>Support Vector Machines</td>\n",
    "    <td>0.89</td>\n",
    "    <td>0.81</td>\n",
    "    <td>0.91</td>\n",
    "    <td>0.92</td>\n",
    "  </tr>\n",
    "</table>\n",
    "\n",
    "A partir da tabela acima, o classificador com melhor resultado será utilizado para classificar os resultados do dataset de testes. Os resultados são apresentados abaixo."
   ]
  },
  {
   "cell_type": "code",
   "execution_count": 17,
   "metadata": {},
   "outputs": [],
   "source": [
    "X_final_test_counts = count_vec.transform(X_final_test)"
   ]
  },
  {
   "cell_type": "code",
   "execution_count": 18,
   "metadata": {},
   "outputs": [
    {
     "name": "stdout",
     "output_type": "stream",
     "text": [
      "Acuracia do melhor classificador (SVM com Unigramas e TF-IDF) = 0.920369877594\n"
     ]
    }
   ],
   "source": [
    "# tf = TfidfTransformer()\n",
    "X_final_test_tfidf = tf.transform(X_final_test_counts)\n",
    "svm_y_pred = clf_tfidf.predict(X_final_test_tfidf)\n",
    "\n",
    "acc = accuracy_score(y_final_test, svm_y_pred)\n",
    "\n",
    "print(\"Acuracia do melhor classificador (SVM com Unigramas e TF-IDF) = {}\".format(acc))"
   ]
  },
  {
   "cell_type": "markdown",
   "metadata": {},
   "source": [
    "Vemos, portanto, que a acurácia do modelo na base de testes é semelhante ao que obtivemos na fase de treino e seleção do algoritmo, 92%. \n",
    "\n",
    "## Outras abordagens possíveis\n",
    "\n",
    "AS seções anteriores explicaram os principais conceitos utilizados nesse projeto para resolver o problema de classificação de texto. Também optou-se por uma das várias abordagens possíveis. Nesta seção apresentaremos variações de técnicas que podem melhorar o resultado do modelo criado. São elas: \n",
    "\n",
    "1. Combinação de bigramas com frequência de termos e TF-IDF\n",
    "2. Cross validation na criação dos classificadores\n",
    "3. Uso de stemmer para reduzir as palavras ao seu radical principal e diminuir o espaço amostral de _features_ do modelo\n",
    "4. Balanceamento de classes"
   ]
  },
  {
   "cell_type": "markdown",
   "metadata": {},
   "source": [
    "### Bigramas com outras métricas\n",
    "\n",
    "#### Frequência de termos"
   ]
  },
  {
   "cell_type": "code",
   "execution_count": 40,
   "metadata": {},
   "outputs": [],
   "source": [
    "tf = TfidfTransformer(use_idf=False, norm=\"l1\")\n",
    "X_freq = tf.fit_transform(X_counts_bigram)"
   ]
  },
  {
   "cell_type": "markdown",
   "metadata": {},
   "source": [
    "#### TF-IDF"
   ]
  },
  {
   "cell_type": "code",
   "execution_count": 41,
   "metadata": {},
   "outputs": [],
   "source": [
    "tf_idf = TfidfTransformer(norm=\"l1\")\n",
    "X_tfidf = tf_idf.fit_transform(X_counts_bigram)"
   ]
  },
  {
   "cell_type": "markdown",
   "metadata": {},
   "source": [
    "#### Aplicação do modelo e avaliação do mesmo"
   ]
  },
  {
   "cell_type": "code",
   "execution_count": 42,
   "metadata": {},
   "outputs": [
    {
     "name": "stdout",
     "output_type": "stream",
     "text": [
      "Metricas usando MNB\n",
      "Acuracia de freq = 0.297725024728\n",
      "Acuracia de tfidf = 0.305390702275\n",
      "-----------------------------------------------------\n",
      "Metricas usando SVM\n",
      "Acuracia de freq = 0.811819980218\n",
      "Acuracia de tfidf = 0.825914935707\n",
      "-----------------------------------------------------\n"
     ]
    }
   ],
   "source": [
    "X_train_freq, X_test_freq, y_train_freq, y_test_freq = train_test_split(X_freq, y, test_size=.2)\n",
    "X_train_tfidf, X_test_tfidf, y_train_tfidf, y_test_tfidf = train_test_split(X_tfidf, y, test_size=.2)\n",
    "\n",
    "# MULTINOMIAL NAIVE BAYES\n",
    "clf_freq = MultinomialNB().fit(X_train_freq, y_train_freq)\n",
    "clf_tfidf = MultinomialNB().fit(X_train_tfidf, y_train_tfidf)\n",
    "\n",
    "y_pred_freq = clf_freq.predict(X_test_freq)\n",
    "y_pred_tfidf = clf_tfidf.predict(X_test_tfidf)\n",
    "\n",
    "\n",
    "# LINEAR SUPPORT VECTOR MACHINES\n",
    "param_grid = [\n",
    "  {'C': [1, 10, 100, 1000]}\n",
    " ]\n",
    "svc = LinearSVC()\n",
    "clf_freq = GridSearchCV(svc, param_grid).fit(X_train_freq, y_train_freq)\n",
    "clf_tfidf = GridSearchCV(svc, param_grid).fit(X_train_tfidf, y_train_tfidf)\n",
    "\n",
    "svm_y_pred_freq = clf_freq.predict(X_test_freq)\n",
    "svm_y_pred_tfidf = clf_tfidf.predict(X_test_tfidf)\n",
    "\n",
    "acc_freq = accuracy_score(y_test_freq, y_pred_freq)\n",
    "acc_tfidf = accuracy_score(y_test_tfidf, y_pred_tfidf)\n",
    "\n",
    "print(\"Metricas usando MNB\")\n",
    "print(\"Acuracia de freq = {}\".format(acc_freq))\n",
    "print(\"Acuracia de tfidf = {}\".format(acc_tfidf))\n",
    "print(\"-----------------------------------------------------\")\n",
    "\n",
    "svm_acc_freq = accuracy_score(y_test_freq, svm_y_pred_freq)\n",
    "svm_acc_tfidf = accuracy_score(y_test_tfidf, svm_y_pred_tfidf)\n",
    "\n",
    "print(\"Metricas usando SVM\")\n",
    "print(\"Acuracia de freq = {}\".format(svm_acc_freq))\n",
    "print(\"Acuracia de tfidf = {}\".format(svm_acc_tfidf))\n",
    "print(\"-----------------------------------------------------\")"
   ]
  },
  {
   "cell_type": "markdown",
   "metadata": {},
   "source": [
    "<table>\n",
    "  <tr>\n",
    "    <th>Algoritmo / Feature</th>\n",
    "    <th>Term Frequency</th>\n",
    "    <th>TF-IDF</th>\n",
    "  </tr>\n",
    "  <tr>\n",
    "    <td>Multinomial Naive Bayes</td>\n",
    "    <td>0.29</td>\n",
    "    <td>0.24</td>\n",
    "  </tr>\n",
    "  <tr>\n",
    "    <td>Support Vector Machines</td>\n",
    "    <td>0.80</td>\n",
    "    <td>0.82</td>\n",
    "  </tr>\n",
    "</table>\n",
    "\n",
    "\n",
    "A partir da tabela acima, é possível concluir que o uso de bigramas para esse desafio não melhora a acurácia do modelo. O classificador com melhor resultado será utilizado para classificar os resultados do dataset de testes. Os resultados são apresentados abaixo."
   ]
  },
  {
   "cell_type": "code",
   "execution_count": 43,
   "metadata": {},
   "outputs": [],
   "source": [
    "X_final_test_counts = count_vec_ngram.transform(X_final_test)"
   ]
  },
  {
   "cell_type": "code",
   "execution_count": 45,
   "metadata": {},
   "outputs": [
    {
     "name": "stdout",
     "output_type": "stream",
     "text": [
      "Acuracia do melhor classificador (SVM com Unigramas e TF-IDF) = 0.829563597658\n"
     ]
    }
   ],
   "source": [
    "X_final_test_tfidf = tf_idf.transform(X_final_test_counts)\n",
    "svm_y_pred = clf_tfidf.predict(X_final_test_tfidf)\n",
    "\n",
    "acc = accuracy_score(y_final_test, svm_y_pred)\n",
    "\n",
    "print(\"Acuracia do melhor classificador (SVM com Unigramas e TF-IDF) = {}\".format(acc))"
   ]
  },
  {
   "cell_type": "markdown",
   "metadata": {},
   "source": [
    "### Aplicando cross validation\n",
    "\n",
    "#### Feature engineering\n",
    "\n",
    "Usaremos nessa seção apenas unigramas. Não serão feitos testes com bigramas. É possível encontrar uma explicação detalhada sobre cross validation neste [link](https://www.youtube.com/watch?v=6dbrR-WymjI)"
   ]
  },
  {
   "cell_type": "code",
   "execution_count": 17,
   "metadata": {},
   "outputs": [
    {
     "name": "stdout",
     "output_type": "stream",
     "text": [
      "Melhor acuracia = 0.985776128633\n",
      "Melhor acuracia = 0.828182941904\n",
      "Melhor acuracia = 0.87012987013\n",
      "Metricas usando MNB\n",
      "Acuracia de counts = 0.869683481701\n",
      "Acuracia de freq = 0.840751730959\n",
      "Acuracia de tfidf = 0.860039564787\n",
      "-----------------------------------------------------\n",
      "Metricas usando SVM\n",
      "Acuracia de counts = 0.888476755687\n",
      "Acuracia de freq = 0.907022749753\n",
      "Acuracia de tfidf = 0.916913946588\n",
      "-----------------------------------------------------\n"
     ]
    }
   ],
   "source": [
    "def apply_cross_validation(n_folds, X, y, model):\n",
    "    best_score = -1000\n",
    "    best_model = None\n",
    "    kf = KFold(n_splits=n_folds)\n",
    "    for train_index, test_index in kf.split(X):\n",
    "#         print(\"TRAIN:\", train_index, \"TEST:\", test_index)\n",
    "        X_train, X_test = X[train_index], X[test_index]\n",
    "        y_train, y_test = y[train_index], y[test_index]\n",
    "        clf = model.fit(X_train, y_train)\n",
    "        y_pred = clf_counts.predict(X_test)\n",
    "        score = accuracy_score(y_test, y_pred)\n",
    "        if score > best_score:\n",
    "            best_score = score\n",
    "            best_model = clf\n",
    "    print(\"Melhor acuracia = {}\".format(best_score))\n",
    "    return(best_model)\n",
    "        \n",
    "\n",
    "# WORD COUNT\n",
    "count_vec = CountVectorizer()\n",
    "X_counts = count_vec.fit_transform(X)\n",
    "\n",
    "# TERM FREQUENCY\n",
    "tf = TfidfTransformer(use_idf=False)\n",
    "X_freq = tf.fit_transform(X_counts)\n",
    "\n",
    "# TF-IDF\n",
    "tf_idf = TfidfTransformer()\n",
    "X_tfidf = tf_idf.fit_transform(X_counts)\n",
    "\n",
    "# SPLIT DO DATASET\n",
    "X_train_counts, X_test_counts, y_train_counts, y_test_counts = train_test_split(X_counts, y, test_size=.2)\n",
    "X_train_freq, X_test_freq, y_train_freq, y_test_freq = train_test_split(X_freq, y, test_size=.2)\n",
    "X_train_tfidf, X_test_tfidf, y_train_tfidf, y_test_tfidf = train_test_split(X_tfidf, y, test_size=.2)\n",
    "\n",
    "# TREINO DO MODELO MULTONOMIAL NAIVE BAYES\n",
    "mnb = MultinomialNB()\n",
    "clf_counts = apply_cross_validation(10, X_train_counts, y_train_counts, mnb)\n",
    "clf_freq = apply_cross_validation(10, X_train_freq, y_train_freq, mnb)\n",
    "clf_tfidf = apply_cross_validation(10, X_train_tfidf, y_train_tfidf, mnb)\n",
    "\n",
    "# TESTE E VALIDACAO DO MODELO MULTONOMIAL NAIVE BAYES\n",
    "y_pred_counts = clf_counts.predict(X_test_counts)\n",
    "y_pred_freq = clf_freq.predict(X_test_freq)\n",
    "y_pred_tfidf = clf_tfidf.predict(X_test_tfidf)\n",
    "\n",
    "# TREINO DO MODELO LINEAR SUPPORT VECTOR MACHINES\n",
    "param_grid = [\n",
    "  {'C': [1, 10, 100, 1000]}\n",
    " ]\n",
    "svc = LinearSVC()\n",
    "clf_counts = GridSearchCV(svc, param_grid, cv=10).fit(X_train_counts, y_train_counts)\n",
    "clf_freq = GridSearchCV(svc, param_grid, cv=10).fit(X_train_freq, y_train_freq)\n",
    "clf_tfidf = GridSearchCV(svc, param_grid, cv=10).fit(X_train_tfidf, y_train_tfidf)\n",
    "\n",
    "# TESTE E VALIDACAO DO MODELO LINEAR SUPPORT VECTOR MACHINES\n",
    "svm_y_pred_counts = clf_counts.predict(X_test_counts)\n",
    "svm_y_pred_freq = clf_freq.predict(X_test_freq)\n",
    "svm_y_pred_tfidf = clf_tfidf.predict(X_test_tfidf)\n",
    "\n",
    "acc_counts = accuracy_score(y_test_counts, y_pred_counts)\n",
    "acc_freq = accuracy_score(y_test_freq, y_pred_freq)\n",
    "acc_tfidf = accuracy_score(y_test_tfidf, y_pred_tfidf)\n",
    "\n",
    "print(\"Metricas usando MNB\")\n",
    "print(\"Acuracia de counts = {}\".format(acc_counts))\n",
    "print(\"Acuracia de freq = {}\".format(acc_freq))\n",
    "print(\"Acuracia de tfidf = {}\".format(acc_tfidf))\n",
    "print(\"-----------------------------------------------------\")\n",
    "\n",
    "\n",
    "svm_acc_counts = accuracy_score(y_test_counts, svm_y_pred_counts)\n",
    "svm_acc_freq = accuracy_score(y_test_freq, svm_y_pred_freq)\n",
    "svm_acc_tfidf = accuracy_score(y_test_tfidf, svm_y_pred_tfidf)\n",
    "\n",
    "print(\"Metricas usando SVM\")\n",
    "print(\"Acuracia de counts = {}\".format(svm_acc_counts))\n",
    "print(\"Acuracia de freq = {}\".format(svm_acc_freq))\n",
    "print(\"Acuracia de tfidf = {}\".format(svm_acc_tfidf))\n",
    "print(\"-----------------------------------------------------\")"
   ]
  },
  {
   "cell_type": "markdown",
   "metadata": {},
   "source": [
    "<table>\n",
    "  <tr>\n",
    "    <th>Algoritmo / Feature</th>\n",
    "    <th>WordCount</th>\n",
    "    <th>Term Frequency</th>\n",
    "    <th>TF-IDF</th>\n",
    "  </tr>\n",
    "  <tr>\n",
    "    <td>Multinomial Naive Bayes</td>\n",
    "    <td>0.87</td>\n",
    "    <td>0.85</td>\n",
    "    <td>0.86</td>\n",
    "  </tr>\n",
    "  <tr>\n",
    "    <td>Support Vector Machines</td>\n",
    "    <td>0.89</td>\n",
    "    <td>0.91</td>\n",
    "    <td>0.92</td>\n",
    "  </tr>\n",
    "</table>\n",
    "\n",
    "\n",
    "A partir da tabela acima, é possível concluir usar Cross Validation com SVM gerou o score mais alto de acurácia, 0.92. Esse crescimento não foi significativo em relação aos apresentados anteriormente, numa situação de mundo real, não tenho certeza se esse caminho seria válido de ser seguido.\n",
    "\n",
    "### Aplicando um stemmer\n",
    "\n",
    "Quando trabalhamos em tasks de NLP, lidamos com palavras que estão conjugadas em diferentes tempos verbais, graus (ex: advérbios no superlativo), gênero e número, mas que essencialmente continuam representando o mesmo conceito. Se observarmos os trabalhos feitos anteriormente nesse projeto, nossas _features_ não levam em consideração esse fator, o que pode acarretar na existência de _features_ que representam o mesmo conceito desnecessariamente. Para lidar com isso, precisamos normalizar as palavras. Em NLP, as duas principais formas de lidar com isso são:\n",
    "\n",
    "1. Stemming: processo de redução das palavras a sua base (`stem`). Em alguns lugares vocề encontrará que é o processo de remoção das flexões/derivações das palavras, mantendo apenas o seu radical (morfema básico que guarda o significado da mesma)\n",
    "2. Lemmatization: processo que deflexiona uma palavra a fim de obter o seu lema (forma canônica), que é a representação singular masculino para substantivos e adjetivos e infinitivo para verbos.\n",
    "\n",
    "O stemmer mais famoso é o de Porter, mas não entraremos em detalhes sobre o funcionamento do mesmo, apenas o aplicaremos no nosso projeto a fim de obter melhores resultados. \n"
   ]
  },
  {
   "cell_type": "code",
   "execution_count": 19,
   "metadata": {},
   "outputs": [],
   "source": [
    "from nltk.stem import PorterStemmer\n",
    "\n",
    "stemmer = PorterStemmer()\n",
    "analyzer = CountVectorizer().build_analyzer()\n",
    "\n",
    "def stemmed_words(doc):\n",
    "    return (stemmer.stem(w) for w in analyzer(doc))"
   ]
  },
  {
   "cell_type": "markdown",
   "metadata": {},
   "source": [
    "#### WordCount (Unigram)"
   ]
  },
  {
   "cell_type": "code",
   "execution_count": 20,
   "metadata": {},
   "outputs": [],
   "source": [
    "stem_count_vec = CountVectorizer(analyzer=stemmed_words)\n",
    "X_counts = stem_count_vec.fit_transform(X)"
   ]
  },
  {
   "cell_type": "markdown",
   "metadata": {},
   "source": [
    "#### WordCount (Bigram)"
   ]
  },
  {
   "cell_type": "code",
   "execution_count": 21,
   "metadata": {},
   "outputs": [],
   "source": [
    "count_vec_ngram = CountVectorizer(ngram_range=(2, 2), analyzer=stemmed_words)\n",
    "X_counts_bigram = count_vec_ngram.fit_transform(X)"
   ]
  },
  {
   "cell_type": "markdown",
   "metadata": {},
   "source": [
    "#### TF"
   ]
  },
  {
   "cell_type": "code",
   "execution_count": 22,
   "metadata": {},
   "outputs": [],
   "source": [
    "tf = TfidfTransformer(use_idf=False, norm=\"l1\")\n",
    "X_freq = tf.fit_transform(X_counts)"
   ]
  },
  {
   "cell_type": "markdown",
   "metadata": {},
   "source": [
    "#### TF-IDF"
   ]
  },
  {
   "cell_type": "code",
   "execution_count": 23,
   "metadata": {},
   "outputs": [],
   "source": [
    "tf_idf = TfidfTransformer(norm=\"l1\")\n",
    "X_tfidf = tf_idf.fit_transform(X_counts)"
   ]
  },
  {
   "cell_type": "markdown",
   "metadata": {},
   "source": [
    "#### Aplicação de algoritmos e resultados"
   ]
  },
  {
   "cell_type": "code",
   "execution_count": 25,
   "metadata": {},
   "outputs": [
    {
     "name": "stdout",
     "output_type": "stream",
     "text": [
      "Metricas usando MNB\n",
      "Acuracia de counts = 0.895647873393\n",
      "Acuracia de bigram = 0.103857566766\n",
      "Acuracia de freq = 0.566518298714\n",
      "Acuracia de tfidf = 0.659742828882\n",
      "-----------------------------------------------------\n",
      "Metricas usando SVM\n",
      "Acuracia de counts = 0.885014836795\n",
      "Acuracia de bigram = 0.10237388724\n",
      "Acuracia de freq = 0.901582591494\n",
      "Acuracia de tfidf = 0.915430267062\n",
      "-----------------------------------------------------\n"
     ]
    }
   ],
   "source": [
    "# TRAIN TEST SPLIT\n",
    "X_train_counts, X_test_counts, y_train_counts, y_test_counts = train_test_split(X_counts, y, test_size=.2)\n",
    "X_train_bigram, X_test_bigram, y_train_bigram, y_test_bigram = train_test_split(X_counts_bigram, y, test_size=.2)\n",
    "X_train_freq, X_test_freq, y_train_freq, y_test_freq = train_test_split(X_freq, y, test_size=.2)\n",
    "X_train_tfidf, X_test_tfidf, y_train_tfidf, y_test_tfidf = train_test_split(X_tfidf, y, test_size=.2)\n",
    "\n",
    "# MULTINOMIAL NAIVE BAYES\n",
    "clf_counts = MultinomialNB().fit(X_train_counts, y_train_counts)\n",
    "clf_bigram = MultinomialNB().fit(X_train_bigram, y_train_bigram)\n",
    "clf_freq = MultinomialNB().fit(X_train_freq, y_train_freq)\n",
    "clf_tfidf = MultinomialNB().fit(X_train_tfidf, y_train_tfidf)\n",
    "\n",
    "y_mnb_pred_counts = clf_counts.predict(X_test_counts)\n",
    "y_mnb_pred_bigram = clf_bigram.predict(X_test_bigram)\n",
    "y_mnb_pred_freq = clf_freq.predict(X_test_freq)\n",
    "y_mnb_pred_tfidf = clf_tfidf.predict(X_test_tfidf)\n",
    "\n",
    "# LINEAR SVM\n",
    "param_grid = [\n",
    "  {'C': [1, 10, 100, 1000]}\n",
    " ]\n",
    "svc = LinearSVC()\n",
    "clf_svm_counts = GridSearchCV(svc, param_grid).fit(X_train_counts, y_train_counts)\n",
    "clf_svm_bigram = GridSearchCV(svc, param_grid).fit(X_train_bigram, y_train_bigram)\n",
    "clf_svm_freq = GridSearchCV(svc, param_grid).fit(X_train_freq, y_train_freq)\n",
    "clf_svm_tfidf = GridSearchCV(svc, param_grid).fit(X_train_tfidf, y_train_tfidf)\n",
    "\n",
    "y_svm_pred_counts = clf_svm_counts.predict(X_test_counts)\n",
    "y_svm_pred_bigram = clf_svm_bigram.predict(X_test_bigram)\n",
    "y_svm_pred_freq = clf_svm_freq.predict(X_test_freq)\n",
    "y_svm_pred_tfidf = clf_svm_tfidf.predict(X_test_tfidf)\n",
    "\n",
    "acc_counts = accuracy_score(y_test_counts, y_mnb_pred_counts)\n",
    "acc_bigram = accuracy_score(y_test_counts, y_mnb_pred_bigram)\n",
    "acc_freq = accuracy_score(y_test_freq, y_mnb_pred_freq)\n",
    "acc_tfidf = accuracy_score(y_test_tfidf, y_mnb_pred_tfidf)\n",
    "\n",
    "print(\"Metricas usando MNB\")\n",
    "print(\"Acuracia de counts = {}\".format(acc_counts))\n",
    "print(\"Acuracia de bigram = {}\".format(acc_bigram))\n",
    "print(\"Acuracia de freq = {}\".format(acc_freq))\n",
    "print(\"Acuracia de tfidf = {}\".format(acc_tfidf))\n",
    "print(\"-----------------------------------------------------\")\n",
    "\n",
    "\n",
    "svm_acc_counts = accuracy_score(y_test_counts, y_svm_pred_counts)\n",
    "svm_acc_bigram = accuracy_score(y_test_counts, y_svm_pred_bigram)\n",
    "svm_acc_freq = accuracy_score(y_test_freq, y_svm_pred_freq)\n",
    "svm_acc_tfidf = accuracy_score(y_test_tfidf, y_svm_pred_tfidf)\n",
    "\n",
    "print(\"Metricas usando SVM\")\n",
    "print(\"Acuracia de counts = {}\".format(svm_acc_counts))\n",
    "print(\"Acuracia de bigram = {}\".format(svm_acc_bigram))\n",
    "print(\"Acuracia de freq = {}\".format(svm_acc_freq))\n",
    "print(\"Acuracia de tfidf = {}\".format(svm_acc_tfidf))\n",
    "print(\"-----------------------------------------------------\")"
   ]
  },
  {
   "cell_type": "markdown",
   "metadata": {},
   "source": [
    "<table>\n",
    "  <tr>\n",
    "    <th>Algoritmo / Feature</th>\n",
    "    <th>Word count</th>\n",
    "    <th>Term Frequency</th>\n",
    "    <th>TF-IDF</th>\n",
    "  </tr>\n",
    "  <tr>\n",
    "    <td>Multinomial Naive Bayes</td>\n",
    "    <td>0.90</td>\n",
    "    <td>0.52</td>\n",
    "    <td>0.63</td>\n",
    "  </tr>\n",
    "  <tr>\n",
    "    <td>Support Vector Machines</td>\n",
    "    <td>0.89</td>\n",
    "    <td>0.91</td>\n",
    "    <td>0.92</td>\n",
    "  </tr>\n",
    "</table>\n",
    "\n",
    "A partir da tabela acima, o classificador com melhor resultado será utilizado para classificar os resultados do dataset de testes. Os resultados são apresentados abaixo."
   ]
  },
  {
   "cell_type": "code",
   "execution_count": 37,
   "metadata": {},
   "outputs": [],
   "source": [
    "X_final_test_counts = stem_count_vec.transform(X_final_test)"
   ]
  },
  {
   "cell_type": "code",
   "execution_count": 44,
   "metadata": {},
   "outputs": [
    {
     "ename": "ValueError",
     "evalue": "X has 334658 features per sample; expecting 24466",
     "output_type": "error",
     "traceback": [
      "\u001b[0;31m---------------------------------------------------------------------------\u001b[0m",
      "\u001b[0;31mValueError\u001b[0m                                Traceback (most recent call last)",
      "\u001b[0;32m<ipython-input-44-09b17551f988>\u001b[0m in \u001b[0;36m<module>\u001b[0;34m()\u001b[0m\n\u001b[1;32m      1\u001b[0m \u001b[0mX_final_test_tfidf\u001b[0m \u001b[0;34m=\u001b[0m \u001b[0mtf_idf\u001b[0m\u001b[0;34m.\u001b[0m\u001b[0mtransform\u001b[0m\u001b[0;34m(\u001b[0m\u001b[0mX_final_test_counts\u001b[0m\u001b[0;34m)\u001b[0m\u001b[0;34m\u001b[0m\u001b[0m\n\u001b[0;32m----> 2\u001b[0;31m \u001b[0msvm_y_pred\u001b[0m \u001b[0;34m=\u001b[0m \u001b[0mclf_svm_tfidf\u001b[0m\u001b[0;34m.\u001b[0m\u001b[0mpredict\u001b[0m\u001b[0;34m(\u001b[0m\u001b[0mX_final_test_tfidf\u001b[0m\u001b[0;34m)\u001b[0m\u001b[0;34m\u001b[0m\u001b[0m\n\u001b[0m\u001b[1;32m      3\u001b[0m \u001b[0;34m\u001b[0m\u001b[0m\n\u001b[1;32m      4\u001b[0m \u001b[0macc\u001b[0m \u001b[0;34m=\u001b[0m \u001b[0maccuracy_score\u001b[0m\u001b[0;34m(\u001b[0m\u001b[0my_final_test\u001b[0m\u001b[0;34m,\u001b[0m \u001b[0msvm_y_pred\u001b[0m\u001b[0;34m)\u001b[0m\u001b[0;34m\u001b[0m\u001b[0m\n\u001b[1;32m      5\u001b[0m \u001b[0;34m\u001b[0m\u001b[0m\n",
      "\u001b[0;32m/home/lucas/Documentos/projects/automatic_brain/venv/local/lib/python2.7/site-packages/sklearn/utils/metaestimators.pyc\u001b[0m in \u001b[0;36m<lambda>\u001b[0;34m(*args, **kwargs)\u001b[0m\n\u001b[1;32m    113\u001b[0m \u001b[0;34m\u001b[0m\u001b[0m\n\u001b[1;32m    114\u001b[0m         \u001b[0;31m# lambda, but not partial, allows help() to work with update_wrapper\u001b[0m\u001b[0;34m\u001b[0m\u001b[0;34m\u001b[0m\u001b[0m\n\u001b[0;32m--> 115\u001b[0;31m         \u001b[0mout\u001b[0m \u001b[0;34m=\u001b[0m \u001b[0;32mlambda\u001b[0m \u001b[0;34m*\u001b[0m\u001b[0margs\u001b[0m\u001b[0;34m,\u001b[0m \u001b[0;34m**\u001b[0m\u001b[0mkwargs\u001b[0m\u001b[0;34m:\u001b[0m \u001b[0mself\u001b[0m\u001b[0;34m.\u001b[0m\u001b[0mfn\u001b[0m\u001b[0;34m(\u001b[0m\u001b[0mobj\u001b[0m\u001b[0;34m,\u001b[0m \u001b[0;34m*\u001b[0m\u001b[0margs\u001b[0m\u001b[0;34m,\u001b[0m \u001b[0;34m**\u001b[0m\u001b[0mkwargs\u001b[0m\u001b[0;34m)\u001b[0m\u001b[0;34m\u001b[0m\u001b[0m\n\u001b[0m\u001b[1;32m    116\u001b[0m         \u001b[0;31m# update the docstring of the returned function\u001b[0m\u001b[0;34m\u001b[0m\u001b[0;34m\u001b[0m\u001b[0m\n\u001b[1;32m    117\u001b[0m         \u001b[0mupdate_wrapper\u001b[0m\u001b[0;34m(\u001b[0m\u001b[0mout\u001b[0m\u001b[0;34m,\u001b[0m \u001b[0mself\u001b[0m\u001b[0;34m.\u001b[0m\u001b[0mfn\u001b[0m\u001b[0;34m)\u001b[0m\u001b[0;34m\u001b[0m\u001b[0m\n",
      "\u001b[0;32m/home/lucas/Documentos/projects/automatic_brain/venv/local/lib/python2.7/site-packages/sklearn/model_selection/_search.pyc\u001b[0m in \u001b[0;36mpredict\u001b[0;34m(self, X)\u001b[0m\n\u001b[1;32m    465\u001b[0m         \"\"\"\n\u001b[1;32m    466\u001b[0m         \u001b[0mself\u001b[0m\u001b[0;34m.\u001b[0m\u001b[0m_check_is_fitted\u001b[0m\u001b[0;34m(\u001b[0m\u001b[0;34m'predict'\u001b[0m\u001b[0;34m)\u001b[0m\u001b[0;34m\u001b[0m\u001b[0m\n\u001b[0;32m--> 467\u001b[0;31m         \u001b[0;32mreturn\u001b[0m \u001b[0mself\u001b[0m\u001b[0;34m.\u001b[0m\u001b[0mbest_estimator_\u001b[0m\u001b[0;34m.\u001b[0m\u001b[0mpredict\u001b[0m\u001b[0;34m(\u001b[0m\u001b[0mX\u001b[0m\u001b[0;34m)\u001b[0m\u001b[0;34m\u001b[0m\u001b[0m\n\u001b[0m\u001b[1;32m    468\u001b[0m \u001b[0;34m\u001b[0m\u001b[0m\n\u001b[1;32m    469\u001b[0m     \u001b[0;34m@\u001b[0m\u001b[0mif_delegate_has_method\u001b[0m\u001b[0;34m(\u001b[0m\u001b[0mdelegate\u001b[0m\u001b[0;34m=\u001b[0m\u001b[0;34m(\u001b[0m\u001b[0;34m'best_estimator_'\u001b[0m\u001b[0;34m,\u001b[0m \u001b[0;34m'estimator'\u001b[0m\u001b[0;34m)\u001b[0m\u001b[0;34m)\u001b[0m\u001b[0;34m\u001b[0m\u001b[0m\n",
      "\u001b[0;32m/home/lucas/Documentos/projects/automatic_brain/venv/local/lib/python2.7/site-packages/sklearn/linear_model/base.pyc\u001b[0m in \u001b[0;36mpredict\u001b[0;34m(self, X)\u001b[0m\n\u001b[1;32m    322\u001b[0m             \u001b[0mPredicted\u001b[0m \u001b[0;32mclass\u001b[0m \u001b[0mlabel\u001b[0m \u001b[0mper\u001b[0m \u001b[0msample\u001b[0m\u001b[0;34m.\u001b[0m\u001b[0;34m\u001b[0m\u001b[0m\n\u001b[1;32m    323\u001b[0m         \"\"\"\n\u001b[0;32m--> 324\u001b[0;31m         \u001b[0mscores\u001b[0m \u001b[0;34m=\u001b[0m \u001b[0mself\u001b[0m\u001b[0;34m.\u001b[0m\u001b[0mdecision_function\u001b[0m\u001b[0;34m(\u001b[0m\u001b[0mX\u001b[0m\u001b[0;34m)\u001b[0m\u001b[0;34m\u001b[0m\u001b[0m\n\u001b[0m\u001b[1;32m    325\u001b[0m         \u001b[0;32mif\u001b[0m \u001b[0mlen\u001b[0m\u001b[0;34m(\u001b[0m\u001b[0mscores\u001b[0m\u001b[0;34m.\u001b[0m\u001b[0mshape\u001b[0m\u001b[0;34m)\u001b[0m \u001b[0;34m==\u001b[0m \u001b[0;36m1\u001b[0m\u001b[0;34m:\u001b[0m\u001b[0;34m\u001b[0m\u001b[0m\n\u001b[1;32m    326\u001b[0m             \u001b[0mindices\u001b[0m \u001b[0;34m=\u001b[0m \u001b[0;34m(\u001b[0m\u001b[0mscores\u001b[0m \u001b[0;34m>\u001b[0m \u001b[0;36m0\u001b[0m\u001b[0;34m)\u001b[0m\u001b[0;34m.\u001b[0m\u001b[0mastype\u001b[0m\u001b[0;34m(\u001b[0m\u001b[0mnp\u001b[0m\u001b[0;34m.\u001b[0m\u001b[0mint\u001b[0m\u001b[0;34m)\u001b[0m\u001b[0;34m\u001b[0m\u001b[0m\n",
      "\u001b[0;32m/home/lucas/Documentos/projects/automatic_brain/venv/local/lib/python2.7/site-packages/sklearn/linear_model/base.pyc\u001b[0m in \u001b[0;36mdecision_function\u001b[0;34m(self, X)\u001b[0m\n\u001b[1;32m    303\u001b[0m         \u001b[0;32mif\u001b[0m \u001b[0mX\u001b[0m\u001b[0;34m.\u001b[0m\u001b[0mshape\u001b[0m\u001b[0;34m[\u001b[0m\u001b[0;36m1\u001b[0m\u001b[0;34m]\u001b[0m \u001b[0;34m!=\u001b[0m \u001b[0mn_features\u001b[0m\u001b[0;34m:\u001b[0m\u001b[0;34m\u001b[0m\u001b[0m\n\u001b[1;32m    304\u001b[0m             raise ValueError(\"X has %d features per sample; expecting %d\"\n\u001b[0;32m--> 305\u001b[0;31m                              % (X.shape[1], n_features))\n\u001b[0m\u001b[1;32m    306\u001b[0m \u001b[0;34m\u001b[0m\u001b[0m\n\u001b[1;32m    307\u001b[0m         scores = safe_sparse_dot(X, self.coef_.T,\n",
      "\u001b[0;31mValueError\u001b[0m: X has 334658 features per sample; expecting 24466"
     ]
    }
   ],
   "source": [
    "X_final_test_tfidf = tf_idf.transform(X_final_test_counts)\n",
    "svm_y_pred = clf_svm_tfidf.predict(X_final_test_tfidf)\n",
    "\n",
    "acc = accuracy_score(y_final_test, svm_y_pred)\n",
    "\n",
    "print(\"Acuracia do melhor classificador (SVM com Unigramas e TF-IDF) = {}\".format(acc))"
   ]
  },
  {
   "cell_type": "markdown",
   "metadata": {},
   "source": [
    "## Referências\n",
    "\n",
    "1. Blog: [Machine Learning, NLP: Text Classification using scikit-learn, python and NLTK.](https://towardsdatascience.com/machine-learning-nlp-text-classification-using-scikit-learn-python-and-nltk-c52b92a7c73a)\n",
    "2. Blog: [A Comprehensive Guide to Understand and Implement Text Classification in Python](https://www.analyticsvidhya.com/blog/2018/04/a-comprehensive-guide-to-understand-and-implement-text-classification-in-python/)\n",
    "3. Livro: Machine Learning for Text (Charu C. Aggarwal, 2018) - Cap 01 e 02\n",
    "4. Stemmer vs Lematização: http://professor.ufabc.edu.br/~jesus.mena/courses/pln-1q-2018/PLN-aula04.pdf"
   ]
  }
 ],
 "metadata": {
  "kernelspec": {
   "display_name": "Python 2",
   "language": "python",
   "name": "python2"
  },
  "language_info": {
   "codemirror_mode": {
    "name": "ipython",
    "version": 2
   },
   "file_extension": ".py",
   "mimetype": "text/x-python",
   "name": "python",
   "nbconvert_exporter": "python",
   "pygments_lexer": "ipython2",
   "version": "2.7.15rc1"
  }
 },
 "nbformat": 4,
 "nbformat_minor": 2
}
